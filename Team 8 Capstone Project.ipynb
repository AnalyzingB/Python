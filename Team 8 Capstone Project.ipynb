{
 "cells": [
  {
   "cell_type": "code",
   "execution_count": null,
   "id": "b6ccb6f8",
   "metadata": {},
   "outputs": [],
   "source": [
    "# Import the libraries we need.  We don't need all these yet, but it's just a good idea to make them available.\n",
    "import pandas as pd\n",
    "import numpy as np\n",
    "import matplotlib as plt\n",
    "import seaborn as sns\n",
    "%pip install openpyxl"
   ]
  },
  {
   "cell_type": "code",
   "execution_count": null,
   "id": "530f5e79",
   "metadata": {},
   "outputs": [],
   "source": [
    "# Read in the Excel file for 2017-18 Pharr SJ and replace any * or - values with NaN.\n",
    "PSJ1718 = pd.read_excel('PharrSJ-1718.xlsx').replace(['*','-'],'NaN')\n",
    "\n",
    "# Change all numerical columns to float (the *s were 'objects' and math with NaN values can be handled if they're floats).\n",
    "for column in PSJ1718:\n",
    "    if column != 'Test' and column != 'Level' and column != 'District':\n",
    "        PSJ1718[column] = PSJ1718[column].astype(float)\n",
    "\n",
    "# Rename some of the columns to make them easier to read.\n",
    "PSJ1718 = PSJ1718.rename(columns={'African\\nAmerican':'Afr Am','American\\nIndian':'Am Ind','Pacific\\nIslander':'Pac Isl',\n",
    "                                'Two or\\nMore\\nRaces':'2+ Race','Special\\nEd':'Spec Ed','Econ\\nDisadv':'Econ Disad'})\n",
    "\n",
    "# Split the dataframe into 'labels' and 'numbers', convert the numbers to represent only the percentage in each category.\n",
    "# Originally, the percentages in the spreadsheets represent the students that hit that level *or above*.\n",
    "work = PSJ1718.drop(PSJ1718.columns[[0,1,2,3,4]], axis=1)\n",
    "info = PSJ1718.drop(PSJ1718.columns[[5,6,7,8,9,10,11,12,13,14,15]], axis=1)\n",
    "for row in range(47):\n",
    "    if ((row-2)%8) == 0:\n",
    "        work.loc[row] = work.loc[row] - work.loc[row+2]\n",
    "    elif ((row-3)%8) == 0:\n",
    "        work.loc[row] = work.loc[row] - work.loc[row+2]\n",
    "    elif ((row+4)%8) == 0:\n",
    "        work.loc[row] = work.loc[row] - work.loc[row+2]\n",
    "    elif ((row+3)%8) == 0:\n",
    "        work.loc[row] = work.loc[row] - work.loc[row+2]\n",
    "\n",
    "# Rejoin the info with the numbers to make one dataframe, sorted by year.\n",
    "# Once everyone's done, we'll concatenate these into one dataframe, sorted by district, then year, then grade level.\n",
    "PSJ1718 = info.join(work).sort_values(by=['Year','Grade'],ascending=True).reset_index(drop=True)\n",
    "PSJ1718"
   ]
  }
 ],
 "metadata": {
  "kernelspec": {
   "display_name": "Python 3",
   "language": "python",
   "name": "python3"
  },
  "language_info": {
   "codemirror_mode": {
    "name": "ipython",
    "version": 3
   },
   "file_extension": ".py",
   "mimetype": "text/x-python",
   "name": "python",
   "nbconvert_exporter": "python",
   "pygments_lexer": "ipython3",
   "version": "3.8.8"
  }
 },
 "nbformat": 4,
 "nbformat_minor": 5
}
